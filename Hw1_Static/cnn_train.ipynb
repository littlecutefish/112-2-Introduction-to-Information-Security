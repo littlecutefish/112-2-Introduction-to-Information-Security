{
  "nbformat": 4,
  "nbformat_minor": 0,
  "metadata": {
    "colab": {
      "provenance": [],
      "gpuType": "T4"
    },
    "kernelspec": {
      "name": "python3",
      "display_name": "Python 3"
    },
    "language_info": {
      "name": "python"
    },
    "accelerator": "GPU"
  },
  "cells": [
    {
      "cell_type": "markdown",
      "source": [
        "參考:  https://medium.com/@vipinra79/image-classification-using-transfer-learning-with-inceptionv3-in-google-colab-d89c34ba438f\n"
      ],
      "metadata": {
        "id": "GCp53T1WfLfB"
      }
    },
    {
      "cell_type": "code",
      "source": [
        "import urllib.request\n",
        "import os\n",
        "import zipfile\n",
        "import random\n",
        "from tensorflow.keras.preprocessing.image import ImageDataGenerator\n",
        "from tensorflow.keras import layers\n",
        "from tensorflow.keras import Model\n",
        "from tensorflow.keras.applications.inception_v3 import InceptionV3\n",
        "from tensorflow.keras.optimizers import RMSprop\n",
        "from shutil import copyfile"
      ],
      "metadata": {
        "id": "aeEqtP5eJCAw"
      },
      "execution_count": 1,
      "outputs": []
    },
    {
      "cell_type": "code",
      "execution_count": 4,
      "metadata": {
        "colab": {
          "base_uri": "https://localhost:8080/"
        },
        "id": "y86qHwPCwLB5",
        "outputId": "8f63e503-71d0-489f-9b67-0df0b9cf43c0"
      },
      "outputs": [
        {
          "output_type": "stream",
          "name": "stdout",
          "text": [
            "Drive already mounted at /content/gdrive; to attempt to forcibly remount, call drive.mount(\"/content/gdrive\", force_remount=True).\n"
          ]
        }
      ],
      "source": [
        "# Mount Google Dive\n",
        "from google.colab import drive\n",
        "drive.mount('/content/gdrive')"
      ]
    },
    {
      "cell_type": "code",
      "source": [
        "# Prepare data\n",
        "import zipfile\n",
        "\n",
        "# Path to the zip file\n",
        "zip_path = '/content/gdrive/MyDrive/Colab Notebooks/CNN/data.zip'\n",
        "\n",
        "destination_path = '/content/gdrive/MyDrive/Colab Notebooks/CNN'\n",
        "\n",
        "# Open zip file\n",
        "with zipfile.ZipFile(zip_path, 'r') as file:\n",
        "  file.extractall(destination_path)\n",
        "\n",
        "print(\"finish extracted\")"
      ],
      "metadata": {
        "colab": {
          "base_uri": "https://localhost:8080/"
        },
        "id": "t6wAYP_xy-T5",
        "outputId": "0776738d-868e-4704-943c-b1f73b3addb1"
      },
      "execution_count": 5,
      "outputs": [
        {
          "output_type": "stream",
          "name": "stdout",
          "text": [
            "finish extracted\n"
          ]
        }
      ]
    },
    {
      "cell_type": "code",
      "source": [
        "train_dir = \"/content/gdrive/MyDrive/Colab Notebooks/CNN/train\"\n",
        "\n",
        "train_datagen = ImageDataGenerator(rescale=1./255,\n",
        "      rotation_range=40,\n",
        "      width_shift_range=0.2,\n",
        "      height_shift_range=0.2,\n",
        "      shear_range=0.2,\n",
        "      zoom_range=0.2,\n",
        "      horizontal_flip=True,\n",
        "      fill_mode='nearest')\n",
        "train_generator = train_datagen.flow_from_directory(train_dir,\n",
        "                                                    batch_size=100,\n",
        "                                                    class_mode='categorical',\n",
        "                                                    target_size=(150, 150))\n",
        "\n",
        "val_dir = \"/content/gdrive/MyDrive/Colab Notebooks/CNN/test\"\n",
        "\n",
        "validation_datagen = ImageDataGenerator(rescale=1./255)\n",
        "validation_generator = validation_datagen.flow_from_directory(val_dir,\n",
        "                                                              batch_size=100,\n",
        "                                                              class_mode='categorical',\n",
        "                                                              target_size=(150, 150))"
      ],
      "metadata": {
        "colab": {
          "base_uri": "https://localhost:8080/"
        },
        "id": "4qVmhbXCKWJC",
        "outputId": "75f2ae97-efbf-4acf-934b-caa2ac9f622b"
      },
      "execution_count": 6,
      "outputs": [
        {
          "output_type": "stream",
          "name": "stdout",
          "text": [
            "Found 4757 images belonging to 6 classes.\n",
            "Found 30 images belonging to 6 classes.\n"
          ]
        }
      ]
    },
    {
      "cell_type": "code",
      "source": [
        "# Flatten the output layer to 1 dimension\n",
        "x = layers.Flatten()(last_output)\n",
        "# Add a fully connected layer with 1,024 hidden units and ReLU activation\n",
        "x = layers.Dense(1024, activation='relu')(x)\n",
        "# Add a final sigmoid layer for classification\n",
        "num_classes = len(train_generator.class_indices)\n",
        "x = layers.Dense(num_classes, activation='softmax')(x)\n",
        "\n",
        "model = Model(pre_trained_model.input, x)"
      ],
      "metadata": {
        "id": "Uc2ZOEx4LBGw"
      },
      "execution_count": 8,
      "outputs": []
    },
    {
      "cell_type": "code",
      "source": [
        "from tensorflow.keras.optimizers import RMSprop\n",
        "\n",
        "model.compile(optimizer=RMSprop(learning_rate=0.0001),\n",
        "              loss='categorical_crossentropy',\n",
        "              metrics=['acc'])\n",
        "\n",
        "# Train the model\n",
        "history = model.fit(\n",
        "            train_generator,\n",
        "            validation_data=validation_generator,\n",
        "            epochs=30,\n",
        "            verbose=1)"
      ],
      "metadata": {
        "colab": {
          "base_uri": "https://localhost:8080/"
        },
        "id": "UEu-CJPbLEGq",
        "outputId": "3570b8aa-8701-43ff-b897-f64c1f02f8b4"
      },
      "execution_count": 50,
      "outputs": [
        {
          "output_type": "stream",
          "name": "stdout",
          "text": [
            "Epoch 1/30\n",
            "48/48 [==============================] - 48s 919ms/step - loss: 0.2519 - acc: 0.8995 - val_loss: 0.8222 - val_acc: 0.7333\n",
            "Epoch 2/30\n",
            "48/48 [==============================] - 41s 856ms/step - loss: 0.2219 - acc: 0.9071 - val_loss: 0.5003 - val_acc: 0.7333\n",
            "Epoch 3/30\n",
            "48/48 [==============================] - 41s 857ms/step - loss: 0.2128 - acc: 0.9100 - val_loss: 0.2780 - val_acc: 0.8667\n",
            "Epoch 4/30\n",
            "48/48 [==============================] - 42s 863ms/step - loss: 0.2007 - acc: 0.9144 - val_loss: 0.4391 - val_acc: 0.7333\n",
            "Epoch 5/30\n",
            "48/48 [==============================] - 42s 880ms/step - loss: 0.2103 - acc: 0.9065 - val_loss: 0.2845 - val_acc: 0.8333\n",
            "Epoch 6/30\n",
            "48/48 [==============================] - 42s 875ms/step - loss: 0.1996 - acc: 0.9157 - val_loss: 0.4213 - val_acc: 0.7333\n",
            "Epoch 7/30\n",
            "48/48 [==============================] - 42s 873ms/step - loss: 0.1784 - acc: 0.9250 - val_loss: 1.2685 - val_acc: 0.6333\n",
            "Epoch 8/30\n",
            "48/48 [==============================] - 42s 866ms/step - loss: 0.1826 - acc: 0.9233 - val_loss: 0.5962 - val_acc: 0.6667\n",
            "Epoch 9/30\n",
            "48/48 [==============================] - 42s 861ms/step - loss: 0.1772 - acc: 0.9260 - val_loss: 0.4497 - val_acc: 0.7333\n",
            "Epoch 10/30\n",
            "48/48 [==============================] - 42s 871ms/step - loss: 0.1935 - acc: 0.9186 - val_loss: 0.9486 - val_acc: 0.7000\n",
            "Epoch 11/30\n",
            "48/48 [==============================] - 42s 868ms/step - loss: 0.1829 - acc: 0.9252 - val_loss: 0.3969 - val_acc: 0.8000\n",
            "Epoch 12/30\n",
            "48/48 [==============================] - 42s 871ms/step - loss: 0.1729 - acc: 0.9264 - val_loss: 0.3896 - val_acc: 0.8333\n",
            "Epoch 13/30\n",
            "48/48 [==============================] - 41s 853ms/step - loss: 0.1627 - acc: 0.9355 - val_loss: 0.4149 - val_acc: 0.8333\n",
            "Epoch 14/30\n",
            "48/48 [==============================] - 41s 859ms/step - loss: 0.1599 - acc: 0.9363 - val_loss: 0.5552 - val_acc: 0.7333\n",
            "Epoch 15/30\n",
            "48/48 [==============================] - 41s 854ms/step - loss: 0.1689 - acc: 0.9325 - val_loss: 0.1835 - val_acc: 0.9333\n",
            "Epoch 16/30\n",
            "48/48 [==============================] - 41s 846ms/step - loss: 0.1630 - acc: 0.9315 - val_loss: 0.6376 - val_acc: 0.7333\n",
            "Epoch 17/30\n",
            "48/48 [==============================] - 41s 845ms/step - loss: 0.1497 - acc: 0.9407 - val_loss: 0.3531 - val_acc: 0.7667\n",
            "Epoch 18/30\n",
            "48/48 [==============================] - 41s 863ms/step - loss: 0.1614 - acc: 0.9308 - val_loss: 0.7547 - val_acc: 0.7000\n",
            "Epoch 19/30\n",
            "48/48 [==============================] - 41s 849ms/step - loss: 0.1543 - acc: 0.9350 - val_loss: 0.2589 - val_acc: 0.8667\n",
            "Epoch 20/30\n",
            "48/48 [==============================] - 41s 847ms/step - loss: 0.1500 - acc: 0.9401 - val_loss: 0.7063 - val_acc: 0.7000\n",
            "Epoch 21/30\n",
            "48/48 [==============================] - 40s 841ms/step - loss: 0.1540 - acc: 0.9367 - val_loss: 0.3105 - val_acc: 0.8000\n",
            "Epoch 22/30\n",
            "48/48 [==============================] - 41s 863ms/step - loss: 0.1418 - acc: 0.9348 - val_loss: 0.1401 - val_acc: 0.9667\n",
            "Epoch 23/30\n",
            "48/48 [==============================] - 41s 847ms/step - loss: 0.1381 - acc: 0.9418 - val_loss: 0.5225 - val_acc: 0.8000\n",
            "Epoch 24/30\n",
            "48/48 [==============================] - 41s 852ms/step - loss: 0.1444 - acc: 0.9401 - val_loss: 0.4060 - val_acc: 0.8000\n",
            "Epoch 25/30\n",
            "48/48 [==============================] - 40s 843ms/step - loss: 0.1401 - acc: 0.9422 - val_loss: 0.6115 - val_acc: 0.8000\n",
            "Epoch 26/30\n",
            "48/48 [==============================] - 41s 849ms/step - loss: 0.1401 - acc: 0.9407 - val_loss: 0.1769 - val_acc: 0.9333\n",
            "Epoch 27/30\n",
            "48/48 [==============================] - 41s 847ms/step - loss: 0.1263 - acc: 0.9519 - val_loss: 0.4944 - val_acc: 0.8000\n",
            "Epoch 28/30\n",
            "48/48 [==============================] - 41s 847ms/step - loss: 0.1420 - acc: 0.9445 - val_loss: 0.9855 - val_acc: 0.6333\n",
            "Epoch 29/30\n",
            "48/48 [==============================] - 41s 848ms/step - loss: 0.1358 - acc: 0.9441 - val_loss: 0.5014 - val_acc: 0.8333\n",
            "Epoch 30/30\n",
            "48/48 [==============================] - 41s 858ms/step - loss: 0.1345 - acc: 0.9462 - val_loss: 0.7481 - val_acc: 0.7000\n"
          ]
        }
      ]
    },
    {
      "cell_type": "code",
      "source": [
        "model_name = 'bottle_classification_inceptionV3.h5'\n",
        "model.save(model_name, save_format='h5')"
      ],
      "metadata": {
        "colab": {
          "base_uri": "https://localhost:8080/"
        },
        "id": "Re-WJDG6LuYB",
        "outputId": "0c725718-d4bb-4d82-e782-3a4c713f21e3"
      },
      "execution_count": 51,
      "outputs": [
        {
          "output_type": "stream",
          "name": "stderr",
          "text": [
            "/usr/local/lib/python3.10/dist-packages/keras/src/engine/training.py:3103: UserWarning: You are saving your model as an HDF5 file via `model.save()`. This file format is considered legacy. We recommend using instead the native Keras format, e.g. `model.save('my_model.keras')`.\n",
            "  saving_api.save_model(\n"
          ]
        }
      ]
    },
    {
      "cell_type": "code",
      "source": [
        "%matplotlib inline\n",
        "\n",
        "import matplotlib.image  as mpimg\n",
        "import matplotlib.pyplot as plt\n",
        "\n",
        "#-----------------------------------------------------------\n",
        "# Retrieve a list of list results on training and test data\n",
        "# sets for each training epoch\n",
        "#-----------------------------------------------------------\n",
        "acc=history.history['acc']\n",
        "val_acc=history.history['val_acc']\n",
        "loss=history.history['loss']\n",
        "val_loss=history.history['val_loss']\n",
        "\n",
        "epochs=range(len(acc)) # Get number of epochs\n",
        "\n",
        "#------------------------------------------------\n",
        "# Plot training and validation accuracy per epoch\n",
        "#------------------------------------------------\n",
        "plt.figure()\n",
        "plt.plot(epochs, acc, label='train acc')\n",
        "plt.plot(epochs, val_acc, label='val acc', c='red')\n",
        "plt.grid()\n",
        "plt.xlabel('epochs')\n",
        "plt.ylabel('accurancy(%)')\n",
        "\n",
        "plt.title('Training accuracy')\n"
      ],
      "metadata": {
        "colab": {
          "base_uri": "https://localhost:8080/",
          "height": 489
        },
        "id": "HDLZ5Y7yLxBw",
        "outputId": "0009326c-2135-4f5f-a06e-08cce8bb6918"
      },
      "execution_count": 52,
      "outputs": [
        {
          "output_type": "execute_result",
          "data": {
            "text/plain": [
              "Text(0.5, 1.0, 'Training accuracy')"
            ]
          },
          "metadata": {},
          "execution_count": 52
        },
        {
          "output_type": "display_data",
          "data": {
            "text/plain": [
              "<Figure size 640x480 with 1 Axes>"
            ],
            "image/png": "[encoded data removed]"
          },
          "metadata": {}
        }
      ]
    }
  ]
}